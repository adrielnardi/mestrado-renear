{
  "nbformat": 4,
  "nbformat_minor": 0,
  "metadata": {
    "colab": {
      "name": "02.1-aula.ipynb",
      "provenance": [],
      "collapsed_sections": []
    },
    "kernelspec": {
      "display_name": "Python 3",
      "name": "python3"
    },
    "language_info": {
      "name": "python"
    }
  },
  "cells": [
    {
      "cell_type": "markdown",
      "metadata": {
        "id": "1-aLH0rksl7A"
      },
      "source": [
        "### Mestrado Profissional em Computação Aplicada\n",
        "\n",
        "#### **Disciplina**: Redes Neurais Artificiais \n",
        "####  **Professor**: Dr. Francisco de Assis Boldt\n",
        "#### **Aluno**: Adriel Monti De Nardi\n",
        "\n",
        "------\n",
        "\n"
      ]
    },
    {
      "cell_type": "markdown",
      "metadata": {
        "id": "vJ6d4LHWspWD"
      },
      "source": [
        ""
      ]
    },
    {
      "cell_type": "code",
      "metadata": {
        "colab": {
          "base_uri": "https://localhost:8080/"
        },
        "id": "81wXoS6MhNAL",
        "outputId": "a5b5255a-dca6-4924-e9cd-5db938caac7e"
      },
      "source": [
        "# 1. Gerar um dataset de treino linearmente separável\n",
        "\n",
        "import numpy as np\n",
        "\n",
        "def geradataset(tamanho=20):\n",
        "  X = np. random.uniform(size=(tamanho,2)) #X aleatório com dataset com 20 instâncias e 2 características\n",
        "  y = np.array(X[:,0]>X[:,1],dtype=int)*2-1  #y(rótulo) \n",
        "  return X,y\n",
        "\n",
        "X,y = geradataset(20)\n",
        "X,y\n"
      ],
      "execution_count": null,
      "outputs": [
        {
          "output_type": "execute_result",
          "data": {
            "text/plain": [
              "(array([[0.34313242, 0.70896681],\n",
              "        [0.42239731, 0.07163279],\n",
              "        [0.38745743, 0.50530379],\n",
              "        [0.14617557, 0.51547296],\n",
              "        [0.98507871, 0.18279644],\n",
              "        [0.1618412 , 0.17133344],\n",
              "        [0.0036451 , 0.33519638],\n",
              "        [0.67539825, 0.5769463 ],\n",
              "        [0.05137429, 0.89556735],\n",
              "        [0.78286757, 0.54706616],\n",
              "        [0.74851397, 0.92737955],\n",
              "        [0.46656978, 0.11204712],\n",
              "        [0.01895955, 0.89896972],\n",
              "        [0.26927027, 0.07657758],\n",
              "        [0.16633744, 0.17375979],\n",
              "        [0.90112905, 0.47065946],\n",
              "        [0.35694429, 0.13265901],\n",
              "        [0.09540705, 0.31401983],\n",
              "        [0.21988415, 0.10299292],\n",
              "        [0.17271376, 0.31938292]]),\n",
              " array([-1,  1, -1, -1,  1, -1, -1,  1, -1,  1, -1,  1, -1,  1, -1,  1,  1,\n",
              "        -1,  1, -1]))"
            ]
          },
          "metadata": {},
          "execution_count": 3
        }
      ]
    },
    {
      "cell_type": "code",
      "metadata": {
        "colab": {
          "base_uri": "https://localhost:8080/",
          "height": 265
        },
        "id": "oO72cfTQinJE",
        "outputId": "99c11d4e-2efe-46d2-d09f-98f05e7e8dc0"
      },
      "source": [
        "#2. Plotar dataset de treino (hiperplano separador) \n",
        "\n",
        "import matplotlib.pyplot as plt\n",
        "\n",
        "def plotadataset(X,y):   #função plota o dataset\n",
        "    for k in set(y):\n",
        "       plt.plot(X[:,0][y==k],X[:,1][y==k],\"o\",alpha=0.3)\n",
        "\n",
        "plotadataset(X,y)\n",
        "\n",
        "def plotavetor(vetor, cor=\"k\"):\n",
        "    origem = [0,0]\n",
        "    plt.arrow(*origem, *vetor, color=cor)\n",
        "\n",
        "vetor = [1, -1]\n",
        "\n",
        "def perpendicular(vetor):\n",
        "    perp = np.array(vetor[::-1])\n",
        "    perp[0] *= -1\n",
        "    return perp\n",
        "\n",
        "hiperplano = perpendicular(vetor)\n",
        "\n",
        "plotavetor(hiperplano)"
      ],
      "execution_count": null,
      "outputs": [
        {
          "output_type": "display_data",
          "data": {
            "image/png": "[encoded data removed]",
            "text/plain": [
              "<Figure size 432x288 with 1 Axes>"
            ]
          },
          "metadata": {
            "needs_background": "light"
          }
        }
      ]
    },
    {
      "cell_type": "code",
      "metadata": {
        "id": "KoyGZrQCx5FO",
        "colab": {
          "base_uri": "https://localhost:8080/"
        },
        "outputId": "7ddfd89b-64af-4cd0-f7fa-8950a707c605"
      },
      "source": [
        "#3. Perceptron | Custo Perceptron | HingeLoss | Adaline\n",
        "\n",
        "from sklearn.base import BaseEstimator, ClassifierMixin\n",
        "\n",
        "class CustoPerceptron():\n",
        "  @staticmethod\n",
        "  def erro(y,ypred):\n",
        "    return y - ypred\n",
        "  @staticmethod\n",
        "  def custo(y,ypred):\n",
        "    return np.sum(CustoPerceptron.erro(y,ypred)**2)\n",
        "  @staticmethod\n",
        "  def gradiente(y,ypred, X):\n",
        "    return np.matmul(CustoPerceptron.erro(y,ypred),X)\n",
        "\n",
        "class HingeLoss():\n",
        "  @staticmethod\n",
        "  def erro(y,ypred):\n",
        "    return np.multiply(y,ypred)\n",
        "  @staticmethod\n",
        "  def custo(y,ypred):\n",
        "    return np.sum(1 - HingeLoss.erro(y,ypred))\n",
        "  @staticmethod\n",
        "  def gradiente(y,ypred, X):\n",
        "    marginais =  HingeLoss.erro(y,ypred) < 1\n",
        "    return np.matmul(y[marginais],X[marginais])\n",
        "\n",
        "\n",
        "class Adaline():\n",
        "  def __init__(self):\n",
        "    self.preactivated = True\n",
        "  @staticmethod\n",
        "  def erro(y,ypred):\n",
        "    return y - ypred\n",
        "  @staticmethod\n",
        "  def custo(y,ypred):\n",
        "    return np.sum((1 - Adaline.erro(y,ypred))**2)\n",
        "  @staticmethod\n",
        "  def gradiente(y,ypred, X):\n",
        "    return np.matmul(Adaline.erro(y,ypred),X)\n",
        "\n",
        "\n",
        "\n",
        "class Perceptron(BaseEstimator, ClassifierMixin):\n",
        "  def __init__(self, custo=CustoPerceptron()):\n",
        "    self.w = None\n",
        "    self.activation = lambda a: (a>=0)*2-1\n",
        "    self.alpha = 0.1\n",
        "    self.maxiter = 100\n",
        "    self.custo = custo\n",
        "\n",
        "  def fit(self, X, y):\n",
        "    self.w = np.random.uniform(-1, 1, size=2)\n",
        "    for _ in range(self.maxiter):\n",
        "      if hasattr(self.custo, 'preactivated') and self.custo.preactivated:\n",
        "         ypred = self.preactivate(X)\n",
        "      else:  \n",
        "         ypred = self.predict(X) \n",
        "      custo = self.custo.custo(y,ypred)\n",
        "      print(custo)\n",
        "      self.w = self.w + self.alpha*self.custo.gradiente(y,ypred,X)\n",
        "      if custo == 0:\n",
        "         break\n",
        "  def preactivate(self,X):\n",
        "    return np.matmul(X, self.w)\n",
        "\n",
        "  def predict(self,X):\n",
        "    a = self.preactivate(X)\n",
        "    ypred = self.activation(a)\n",
        "    return ypred\n",
        "\n",
        "#Perceptron com custo Adaline\n",
        "perceptron = Perceptron(custo=Adaline())\n",
        "perceptron.fit(X,y)\n",
        "ypred = perceptron.predict(X)\n",
        "print(sum(y == ypred) /len(y))\n"
      ],
      "execution_count": null,
      "outputs": [
        {
          "output_type": "stream",
          "text": [
            "38.04830765499695\n",
            "34.332443826876286\n",
            "32.61179754333859\n",
            "31.594607484596448\n",
            "30.917765582924904\n",
            "30.445474501858268\n",
            "30.10976389623154\n",
            "29.86914234063262\n",
            "29.69578629572598\n",
            "29.570340742211076\n",
            "29.479156028211104\n",
            "29.41255164672635\n",
            "29.36364104212671\n",
            "29.327513550258843\n",
            "29.300659153713873\n",
            "29.280562411715913\n",
            "29.265415288072283\n",
            "29.25391381327833\n",
            "29.245113942360312\n",
            "29.238329248433892\n",
            "29.233058206248167\n",
            "29.22893242194917\n",
            "29.225679704487103\n",
            "29.223097664954803\n",
            "29.221034793692503\n",
            "29.21937685682677\n",
            "29.2180370836458\n",
            "29.21694906109593\n",
            "29.216061566157695\n",
            "29.215334789303267\n",
            "29.214737559710624\n",
            "29.21424529449471\n",
            "29.21383847337389\n",
            "29.21350149641767\n",
            "29.213221822523693\n",
            "29.21298931478118\n",
            "29.212795739239784\n",
            "29.212634378179867\n",
            "29.212499729446137\n",
            "29.21238727094435\n",
            "29.21229327484974\n",
            "29.21221466003104\n",
            "29.212148874078526\n",
            "29.21209379843841\n",
            "29.212047671714675\n",
            "29.21200902735554\n",
            "29.21197664280448\n",
            "29.211949497845172\n",
            "29.211926740360962\n",
            "29.2119076581046\n",
            "29.211891655362642\n",
            "29.211878233622336\n",
            "29.211866975523265\n",
            "29.2118575315137\n",
            "29.21184960873968\n",
            "29.21184296178233\n",
            "29.211837384927797\n",
            "29.211832705710556\n",
            "29.211828779516466\n",
            "29.211825485068672\n",
            "29.211822720649906\n",
            "29.21182040093983\n",
            "29.211818454366057\n",
            "29.211816820884867\n",
            "29.211815450121343\n",
            "29.211814299810417\n",
            "29.21181333448983\n",
            "29.211812524404216\n",
            "29.211811844585963\n",
            "29.211811274084376\n",
            "29.21181079531905\n",
            "29.211810393537473\n",
            "29.21181005635995\n",
            "29.211809773397846\n",
            "29.211809535933277\n",
            "29.211809336650337\n",
            "29.211809169409616\n",
            "29.211809029058948\n",
            "29.211808911274662\n",
            "29.211808812428313\n",
            "29.211808729474917\n",
            "29.21180865985908\n",
            "29.21180860143632\n",
            "29.21180855240695\n",
            "29.211808511260656\n",
            "29.211808476729978\n",
            "29.211808447751217\n",
            "29.211808423431723\n",
            "29.211808403022356\n",
            "29.211808385894457\n",
            "29.21180837152041\n",
            "29.211808359457446\n",
            "29.21180834933398\n",
            "29.211808340838193\n",
            "29.211808333708355\n",
            "29.21180832772488\n",
            "29.21180832270343\n",
            "29.211808318489332\n",
            "29.211808314952773\n",
            "29.211808311984846\n",
            "1.0\n"
          ],
          "name": "stdout"
        }
      ]
    },
    {
      "cell_type": "code",
      "metadata": {
        "colab": {
          "base_uri": "https://localhost:8080/"
        },
        "id": "9PRXE1jhcJOz",
        "outputId": "7feed577-f9d8-4933-f100-029580b3f3b9"
      },
      "source": [
        "#Perceptron com Custo Perceptron\n",
        "perceptron = Perceptron(custo=CustoPerceptron())\n",
        "perceptron.fit(X,y)\n",
        "ypred = perceptron.predict(X)\n",
        "print(sum(y == ypred) /len(y))"
      ],
      "execution_count": null,
      "outputs": [
        {
          "output_type": "stream",
          "text": [
            "16\n",
            "4\n",
            "0\n",
            "1.0\n"
          ],
          "name": "stdout"
        }
      ]
    },
    {
      "cell_type": "code",
      "metadata": {
        "colab": {
          "base_uri": "https://localhost:8080/"
        },
        "id": "USyGTSTCcPo6",
        "outputId": "d64a9c30-7eff-46b8-ddf1-6bd7beadcefa"
      },
      "source": [
        "#Perceptron com Custo Perceptron\n",
        "perceptron = Perceptron(custo=HingeLoss())\n",
        "perceptron.fit(X,y)\n",
        "ypred = perceptron.predict(X)\n",
        "print(sum(y == ypred) /len(y))"
      ],
      "execution_count": null,
      "outputs": [
        {
          "output_type": "stream",
          "text": [
            "18\n",
            "16\n",
            "4\n",
            "4\n",
            "0\n",
            "1.0\n"
          ],
          "name": "stdout"
        }
      ]
    }
  ]
}