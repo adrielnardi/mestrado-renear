{
  "nbformat": 4,
  "nbformat_minor": 0,
  "metadata": {
    "colab": {
      "name": "03-entrega.ipynb",
      "provenance": [],
      "collapsed_sections": []
    },
    "kernelspec": {
      "display_name": "Python 3",
      "name": "python3"
    },
    "language_info": {
      "name": "python"
    }
  },
  "cells": [
    {
      "cell_type": "markdown",
      "metadata": {
        "id": "1-aLH0rksl7A"
      },
      "source": [
        "### Mestrado Profissional em Computação Aplicada\n",
        "\n",
        "#### **Disciplina**: Redes Neurais Artificiais \n",
        "####  **Professor**: Dr. Francisco de Assis Boldt\n",
        "#### **Aluno**: Adriel Monti De Nardi\n",
        "\n",
        "------\n",
        "\n"
      ]
    },
    {
      "cell_type": "markdown",
      "metadata": {
        "id": "OZOvm7fzhOH_"
      },
      "source": [
        "### Trabalho 03: Plotar a região de decisão de uma ELM\n",
        "\n",
        "Para concluir a atividade proposta devemos plotar a região de decisão da ELM mostrada no vídeo.\n",
        "\n"
      ]
    },
    {
      "cell_type": "markdown",
      "metadata": {
        "id": "TFBi7oQRiagi"
      },
      "source": [
        "#Função gera dataset, plota dataset e hiperplano"
      ]
    },
    {
      "cell_type": "code",
      "metadata": {
        "colab": {
          "base_uri": "https://localhost:8080/",
          "height": 298
        },
        "id": "-z7A1LpojWfm",
        "outputId": "ef926e73-2c11-44a4-ca49-e45d9b4d7334"
      },
      "source": [
        "import matplotlib.pyplot as plt\n",
        "import numpy as np\n",
        "from sklearn.datasets import make_blobs\n",
        "from sklearn.preprocessing import label_binarize\n",
        "\n",
        "def geradataset(tamanho=20, centros=[[0,0],[1,0],[1,1],[0,1]]):\n",
        "    X, y = make_blobs(n_samples=tamanho, centers=centros, cluster_std=0.2)\n",
        "    y = np.array(y%2, dtype=int)\n",
        "    return X, y\n",
        "\n",
        "def plotadataset(X, y):\n",
        "    plt.xlabel('X1')\n",
        "    plt.ylabel('X2')\n",
        "    for k in set(y):\n",
        "        plt.plot(X[:,0][y==k],X[:,1][y==k], \"o\", alpha=0.3)\n",
        "\n",
        "def plotahiperplano(vetor, bias=0, xmin=0, xmax=1):\n",
        "    xs = np.linspace(xmin, xmax, num=2)\n",
        "    ys = (-vetor[0] / vetor[1]) * xs - bias / vetor[1]\n",
        "    plt.plot(xs,ys)\n",
        "\n",
        "X, y = geradataset()\n",
        "plotadataset(X, y)\n",
        "plt.show()\n",
        "y"
      ],
      "execution_count": 10,
      "outputs": [
        {
          "output_type": "display_data",
          "data": {
            "image/png": "[encoded data removed]",
            "text/plain": [
              "<Figure size 432x288 with 1 Axes>"
            ]
          },
          "metadata": {
            "needs_background": "light"
          }
        },
        {
          "output_type": "execute_result",
          "data": {
            "text/plain": [
              "array([1, 0, 0, 1, 0, 1, 0, 0, 0, 1, 1, 0, 1, 0, 1, 0, 1, 1, 0, 1])"
            ]
          },
          "metadata": {},
          "execution_count": 10
        }
      ]
    },
    {
      "cell_type": "markdown",
      "metadata": {
        "id": "jgaFAqyAjg76"
      },
      "source": [
        "#Funções de Custo\n"
      ]
    },
    {
      "cell_type": "code",
      "metadata": {
        "id": "6qhwsxToji-P"
      },
      "source": [
        "class CustoPerceptron():\n",
        "    @staticmethod\n",
        "    def erro(y, ypred):\n",
        "        return y - ypred\n",
        "    @staticmethod\n",
        "    def custo(y, ypred):\n",
        "        return np.sum(CustoPerceptron.erro(y, ypred)**2)\n",
        "    @staticmethod\n",
        "    def gradiente(y, ypred, X):\n",
        "        return np.matmul(X.T, CustoPerceptron.erro(y, ypred))\n",
        "\n",
        "class Adaline():\n",
        "    def __init__(self):\n",
        "        self.preactivated = True\n",
        "    @staticmethod\n",
        "    def erro(y, ypred):\n",
        "        return y - ypred\n",
        "    @staticmethod\n",
        "    def custo(y, ypred):\n",
        "        return np.sum((1 - Adaline.erro(y, ypred))**2)\n",
        "    @staticmethod\n",
        "    def gradiente(y, ypred, X):\n",
        "        return np.matmul(X.T, Adaline.erro(y, ypred))"
      ],
      "execution_count": 11,
      "outputs": []
    },
    {
      "cell_type": "markdown",
      "metadata": {
        "id": "R0Ht-X56jn8Y"
      },
      "source": [
        "#Algoritmos"
      ]
    },
    {
      "cell_type": "code",
      "metadata": {
        "id": "FpihARbxjpd1"
      },
      "source": [
        "class DescidaGradiente():\n",
        "    def __init__(self, custo=Adaline(), maxiter=1000, alpha=0.005):\n",
        "        self.custo = custo\n",
        "        self.maxiter = maxiter\n",
        "        self.alpha = alpha\n",
        "    \n",
        "    def getW(self, X, y, activation=lambda a: a):\n",
        "        w = np.random.uniform(-1, -1, size=(X.shape[1], y.shape[1]))\n",
        "        for _ in range(self.maxiter):\n",
        "            ypred = activation(np.matmul(X, w))\n",
        "            custo = self.custo.custo(y, ypred)\n",
        "            if custo == 0:\n",
        "                break\n",
        "            w = w + self.alpha * self.custo.gradiente(y, ypred, X)\n",
        "        return w\n",
        "\n",
        "class PseudoInversa():\n",
        "    def __init__(self):\n",
        "        pass\n",
        "    def getW(self, X, y):\n",
        "        pinv = np.linalg.pinv(X)\n",
        "        w = np.matmul(pinv, y)\n",
        "        return w"
      ],
      "execution_count": 12,
      "outputs": []
    },
    {
      "cell_type": "markdown",
      "metadata": {
        "id": "bnI4_plKjvNi"
      },
      "source": [
        "#Extreme Learning Machine"
      ]
    },
    {
      "cell_type": "code",
      "metadata": {
        "id": "82VNzSFQjzJ8"
      },
      "source": [
        "from sklearn.base import BaseEstimator, ClassifierMixin\n",
        "from scipy.special import expit\n",
        "\n",
        "def tanh(a):\n",
        "    return expit(a) * 2 - 1\n",
        "\n",
        "class ExtremeLearningMachine(BaseEstimator, ClassifierMixin):\n",
        "    def __init__(self, algoritmo=PseudoInversa()):\n",
        "        self.wih = None\n",
        "        self.w = None\n",
        "        self.threshold = 0\n",
        "        self.activation = tanh\n",
        "        self.algoritmo = algoritmo\n",
        "    \n",
        "    @staticmethod\n",
        "    def includebias(X):\n",
        "        bias = np.ones((X.shape[0],1))\n",
        "        Xb = np.concatenate((bias,X), axis=1)\n",
        "        return Xb\n",
        "    \n",
        "    def fit(self, X, y):\n",
        "        self.wih = np.random.uniform(-1, 1, size=(X.shape[1],X.shape[0]//3))\n",
        "        Xh = np.matmul(X, self.wih)\n",
        "        Xho = self.activation(Xh)\n",
        "        X = ExtremeLearningMachine.includebias(Xho)\n",
        "        self.labels = list(set(y))\n",
        "        y = label_binarize(y, classes=self.labels)*2-1\n",
        "        if len(self.labels) == 2 :\n",
        "            y = y[:,0:1]\n",
        "        # treinamento\n",
        "        if hasattr(self.algoritmo, 'custo') and not (hasattr(self.algoritmo.custo, 'preactivated') and self.algoritmo.custo.preactivated):\n",
        "            self.w = self.algoritmo.getW(X, y, self.activation)\n",
        "        else:\n",
        "            self.w = self.algoritmo.getW(X, y)\n",
        "\n",
        "    def predict(self, X):\n",
        "        Xh = np.matmul(X, self.wih)\n",
        "        Xho = self.activation(Xh)\n",
        "        Xb = ExtremeLearningMachine.includebias(Xho)\n",
        "        a = np.matmul(Xb, self.w)\n",
        "        if self.w.shape[1] > 1:\n",
        "            idx = np.argmax(a, axis=1) \n",
        "        else:\n",
        "            idx = np.array(self.activation(a) > self.threshold, dtype=int)[:,0]\n",
        "        ypred = np.array([self.labels[i] for i in idx])\n",
        "        return ypred"
      ],
      "execution_count": 13,
      "outputs": []
    },
    {
      "cell_type": "code",
      "metadata": {
        "colab": {
          "base_uri": "https://localhost:8080/"
        },
        "id": "wy9i2-e5kXWy",
        "outputId": "fceeec36-ca83-4dc2-b0d2-bbc0dfcb79a2"
      },
      "source": [
        "elm = ExtremeLearningMachine()\n",
        "elm.fit(X, y)\n",
        "ypred = elm.predict(X)\n",
        "print(sum(y == ypred)/len(y))"
      ],
      "execution_count": 14,
      "outputs": [
        {
          "output_type": "stream",
          "name": "stdout",
          "text": [
            "1.0\n"
          ]
        }
      ]
    },
    {
      "cell_type": "markdown",
      "metadata": {
        "id": "qQ9Tv9M9kjT6"
      },
      "source": [
        "#Plotting Decision Regions\n",
        "\n",
        "Aqui será plotado a região de decisão da ELM "
      ]
    },
    {
      "cell_type": "code",
      "metadata": {
        "colab": {
          "base_uri": "https://localhost:8080/",
          "height": 587
        },
        "id": "amx1C7cknsey",
        "outputId": "19f73d83-d9c8-4611-81ec-94cafa2e6c1f"
      },
      "source": [
        "from mlxtend.plotting import plot_decision_regions\n",
        "!pip install mlxtend \n",
        "\n",
        "\n",
        "plot_decision_regions(X, ypred, clf=elm, legend=len(set(y)))\n",
        "plt.xlabel('X1')\n",
        "plt.ylabel('X2')\n",
        "plt.title(\"Plotando Decisão de Região\")\n",
        "plt.show()"
      ],
      "execution_count": 23,
      "outputs": [
        {
          "output_type": "stream",
          "name": "stdout",
          "text": [
            "Requirement already satisfied: mlxtend in /usr/local/lib/python3.7/dist-packages (0.14.0)\n",
            "Requirement already satisfied: scipy>=0.17 in /usr/local/lib/python3.7/dist-packages (from mlxtend) (1.4.1)\n",
            "Requirement already satisfied: scikit-learn>=0.18 in /usr/local/lib/python3.7/dist-packages (from mlxtend) (0.22.2.post1)\n",
            "Requirement already satisfied: setuptools in /usr/local/lib/python3.7/dist-packages (from mlxtend) (57.4.0)\n",
            "Requirement already satisfied: numpy>=1.10.4 in /usr/local/lib/python3.7/dist-packages (from mlxtend) (1.19.5)\n",
            "Requirement already satisfied: matplotlib>=1.5.1 in /usr/local/lib/python3.7/dist-packages (from mlxtend) (3.2.2)\n",
            "Requirement already satisfied: pandas>=0.17.1 in /usr/local/lib/python3.7/dist-packages (from mlxtend) (1.1.5)\n",
            "Requirement already satisfied: cycler>=0.10 in /usr/local/lib/python3.7/dist-packages (from matplotlib>=1.5.1->mlxtend) (0.10.0)\n",
            "Requirement already satisfied: kiwisolver>=1.0.1 in /usr/local/lib/python3.7/dist-packages (from matplotlib>=1.5.1->mlxtend) (1.3.1)\n",
            "Requirement already satisfied: python-dateutil>=2.1 in /usr/local/lib/python3.7/dist-packages (from matplotlib>=1.5.1->mlxtend) (2.8.2)\n",
            "Requirement already satisfied: pyparsing!=2.0.4,!=2.1.2,!=2.1.6,>=2.0.1 in /usr/local/lib/python3.7/dist-packages (from matplotlib>=1.5.1->mlxtend) (2.4.7)\n",
            "Requirement already satisfied: six in /usr/local/lib/python3.7/dist-packages (from cycler>=0.10->matplotlib>=1.5.1->mlxtend) (1.15.0)\n",
            "Requirement already satisfied: pytz>=2017.2 in /usr/local/lib/python3.7/dist-packages (from pandas>=0.17.1->mlxtend) (2018.9)\n",
            "Requirement already satisfied: joblib>=0.11 in /usr/local/lib/python3.7/dist-packages (from scikit-learn>=0.18->mlxtend) (1.0.1)\n"
          ]
        },
        {
          "output_type": "stream",
          "name": "stderr",
          "text": [
            "/usr/local/lib/python3.7/dist-packages/mlxtend/plotting/decision_regions.py:244: MatplotlibDeprecationWarning: Passing unsupported keyword arguments to axis() will raise a TypeError in 3.3.\n",
            "  ax.axis(xmin=xx.min(), xmax=xx.max(), y_min=yy.min(), y_max=yy.max())\n"
          ]
        },
        {
          "output_type": "display_data",
          "data": {
            "image/png": "[encoded data removed]",
            "text/plain": [
              "<Figure size 432x288 with 1 Axes>"
            ]
          },
          "metadata": {
            "needs_background": "light"
          }
        }
      ]
    },
    {
      "cell_type": "markdown",
      "metadata": {
        "id": "ngeLd99OicIQ"
      },
      "source": [
        "#Referência:\n",
        "\n",
        "- [Como faço para instalar pacotes Python no Colab do Google?](https://qastack.com.br/programming/51342408/how-do-i-install-python-packages-in-googles-colab) (data de acesso: 01.09.2021)\n",
        "- [Installing mlxtend](http://rasbt.github.io/mlxtend/installation/) (data de acesso: 01.09.2021)\n",
        "- [Plotting Decision Regions](http://rasbt.github.io/mlxtend/user_guide/plotting/plot_decision_regions/)\n",
        "(data de acesso: 01.09.2021)\n",
        "\n"
      ]
    }
  ]
}